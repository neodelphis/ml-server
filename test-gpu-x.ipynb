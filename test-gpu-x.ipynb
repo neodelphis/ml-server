{
 "cells": [
  {
   "cell_type": "code",
   "execution_count": 1,
   "metadata": {},
   "outputs": [],
   "source": [
    "import tensorflow as tf"
   ]
  },
  {
   "cell_type": "code",
   "execution_count": 2,
   "metadata": {},
   "outputs": [],
   "source": [
    "import tensorflow.keras\n",
    "from tensorflow.keras.datasets import mnist\n",
    "from tensorflow.keras.utils import to_categorical\n",
    "from tensorflow.keras.models import Sequential\n",
    "from tensorflow.keras.layers import Dense, Flatten , Conv2D, Dropout, BatchNormalization, ReLU\n",
    "from tensorflow.keras.optimizers.schedules import ExponentialDecay\n",
    "from tensorflow.keras.optimizers import Adam\n",
    "import time\n",
    "from math import trunc\n",
    "import matplotlib.pyplot as plt"
   ]
  },
  {
   "cell_type": "code",
   "execution_count": 3,
   "metadata": {},
   "outputs": [
    {
     "name": "stdout",
     "output_type": "stream",
     "text": [
      "1 Physical GPUs, 1 Logical GPUs\n"
     ]
    }
   ],
   "source": [
    "gpus = tf.config.experimental.list_physical_devices('GPU')\n",
    "if gpus:\n",
    "  try:\n",
    "    # Currently, memory growth needs to be the same across GPUs\n",
    "    for gpu in gpus:\n",
    "      tf.config.experimental.set_memory_growth(gpu, True)\n",
    "    logical_gpus = tf.config.experimental.list_logical_devices('GPU')\n",
    "    print(len(gpus), \"Physical GPUs,\", len(logical_gpus), \"Logical GPUs\")\n",
    "  except RuntimeError as e:\n",
    "    # Memory growth must be set before GPUs have been initialized\n",
    "    print(e)"
   ]
  },
  {
   "cell_type": "code",
   "execution_count": 4,
   "metadata": {},
   "outputs": [
    {
     "name": "stdout",
     "output_type": "stream",
     "text": [
      "Downloading data from https://storage.googleapis.com/tensorflow/tf-keras-datasets/mnist.npz\n",
      "11493376/11490434 [==============================] - 2s 0us/step\n"
     ]
    }
   ],
   "source": [
    "(x_train, y_train), (x_val, y_val) = mnist.load_data()\n",
    "\n",
    "# Ajout de l'indication du canal sur le images pour le traitement via réseau convolutionnel\n",
    "x_train = x_train.reshape(x_train.shape[0], 28, 28, 1)\n",
    "x_val = x_val.reshape(x_val.shape[0], 28, 28, 1)\n",
    "\n",
    "input_shape=(28, 28, 1)\n",
    "num_classes = 10\n",
    "\n",
    "# normalisation\n",
    "x_train, x_val = x_train/255., x_val/255.\n",
    "# 1-hot encoding\n",
    "y_train, y_val = to_categorical(y_train, dtype='int8'), to_categorical(y_val, dtype='int8')"
   ]
  },
  {
   "cell_type": "code",
   "execution_count": 5,
   "metadata": {},
   "outputs": [],
   "source": [
    "# Hyperparamètres\n",
    "#\n",
    "# Nombre d'époques pour l'apprentissage:\n",
    "epochs = 30\n",
    "\n",
    "# Taille du batch d'entraînement:\n",
    "batch_size = 100\n",
    "\n",
    "# Taux de dropout rate\n",
    "dropout_rate = 0.1\n",
    "\n",
    "# Planification de l'apprentissage\n",
    "initial_learning_rate = 0.005\n",
    "# taux de décroissance du pas d'apprentissage\n",
    "decay_rate = 0.7\n",
    "# Nombre d'époques à faire avant de changer de pas\n",
    "decay_steps = 180000 # 3 époques"
   ]
  },
  {
   "cell_type": "code",
   "execution_count": 6,
   "metadata": {},
   "outputs": [
    {
     "name": "stdout",
     "output_type": "stream",
     "text": [
      "Model: \"sequential\"\n",
      "_________________________________________________________________\n",
      "Layer (type)                 Output Shape              Param #   \n",
      "=================================================================\n",
      "conv2d (Conv2D)              (None, 23, 23, 12)        444       \n",
      "_________________________________________________________________\n",
      "batch_normalization (BatchNo (None, 23, 23, 12)        48        \n",
      "_________________________________________________________________\n",
      "re_lu (ReLU)                 (None, 23, 23, 12)        0         \n",
      "_________________________________________________________________\n",
      "dropout (Dropout)            (None, 23, 23, 12)        0         \n",
      "_________________________________________________________________\n",
      "conv2d_1 (Conv2D)            (None, 10, 10, 12)        3612      \n",
      "_________________________________________________________________\n",
      "batch_normalization_1 (Batch (None, 10, 10, 12)        48        \n",
      "_________________________________________________________________\n",
      "re_lu_1 (ReLU)               (None, 10, 10, 12)        0         \n",
      "_________________________________________________________________\n",
      "dropout_1 (Dropout)          (None, 10, 10, 12)        0         \n",
      "_________________________________________________________________\n",
      "conv2d_2 (Conv2D)            (None, 4, 4, 24)          4632      \n",
      "_________________________________________________________________\n",
      "batch_normalization_2 (Batch (None, 4, 4, 24)          96        \n",
      "_________________________________________________________________\n",
      "re_lu_2 (ReLU)               (None, 4, 4, 24)          0         \n",
      "_________________________________________________________________\n",
      "dropout_2 (Dropout)          (None, 4, 4, 24)          0         \n",
      "_________________________________________________________________\n",
      "flatten (Flatten)            (None, 384)               0         \n",
      "_________________________________________________________________\n",
      "dense (Dense)                (None, 200)               77000     \n",
      "_________________________________________________________________\n",
      "dropout_3 (Dropout)          (None, 200)               0         \n",
      "_________________________________________________________________\n",
      "dense_1 (Dense)              (None, 10)                2010      \n",
      "=================================================================\n",
      "Total params: 87,890\n",
      "Trainable params: 87,794\n",
      "Non-trainable params: 96\n",
      "_________________________________________________________________\n"
     ]
    }
   ],
   "source": [
    "# Structure du modèle\n",
    "\n",
    "model = Sequential()\n",
    "model.add(Conv2D(12, kernel_size=(6,6), input_shape=input_shape))\n",
    "model.add(BatchNormalization())\n",
    "model.add(ReLU())\n",
    "model.add(Dropout(dropout_rate))\n",
    "\n",
    "model.add(Conv2D(12, (5,5), strides=(2, 2)))\n",
    "model.add(BatchNormalization())\n",
    "model.add(ReLU())\n",
    "model.add(Dropout(dropout_rate))\n",
    "\n",
    "model.add(Conv2D(24, (4,4), strides=(2, 2)))\n",
    "model.add(BatchNormalization())\n",
    "model.add(ReLU())\n",
    "model.add(Dropout(dropout_rate))\n",
    "\n",
    "model.add(Flatten())\n",
    "\n",
    "model.add(Dense(200, activation='relu'))\n",
    "model.add(Dropout(dropout_rate))\n",
    "\n",
    "model.add(Dense(num_classes, activation='softmax'))\n",
    "\n",
    "model.summary()"
   ]
  },
  {
   "cell_type": "code",
   "execution_count": 7,
   "metadata": {},
   "outputs": [],
   "source": [
    "# Planification de l'apprentissage\n",
    "\n",
    "lr_schedule = ExponentialDecay(initial_learning_rate,\n",
    "            decay_steps = decay_steps,\n",
    "            decay_rate = decay_rate,\n",
    "            staircase=True)\n",
    "\n",
    "optimizer = Adam(learning_rate=lr_schedule)\n",
    "\n",
    "model.compile(loss = 'categorical_crossentropy',\n",
    "              optimizer = optimizer,\n",
    "              metrics = ['accuracy'])"
   ]
  },
  {
   "cell_type": "code",
   "execution_count": 8,
   "metadata": {},
   "outputs": [
    {
     "name": "stdout",
     "output_type": "stream",
     "text": [
      "Epoch 1/30\n",
      "600/600 [==============================] - 2s 4ms/step - loss: 0.1513 - accuracy: 0.9532 - val_loss: 0.0660 - val_accuracy: 0.9789\n",
      "Epoch 2/30\n",
      "600/600 [==============================] - 2s 3ms/step - loss: 0.0617 - accuracy: 0.9822 - val_loss: 0.0443 - val_accuracy: 0.9860\n",
      "Epoch 3/30\n",
      "600/600 [==============================] - 2s 3ms/step - loss: 0.0488 - accuracy: 0.9852 - val_loss: 0.0377 - val_accuracy: 0.9880\n",
      "Epoch 4/30\n",
      "600/600 [==============================] - 2s 3ms/step - loss: 0.0427 - accuracy: 0.9865 - val_loss: 0.0405 - val_accuracy: 0.9878\n",
      "Epoch 5/30\n",
      "600/600 [==============================] - 2s 3ms/step - loss: 0.0362 - accuracy: 0.9886 - val_loss: 0.0332 - val_accuracy: 0.9903\n",
      "Epoch 6/30\n",
      "600/600 [==============================] - 2s 3ms/step - loss: 0.0332 - accuracy: 0.9897 - val_loss: 0.0262 - val_accuracy: 0.9919\n",
      "Epoch 7/30\n",
      "600/600 [==============================] - 2s 3ms/step - loss: 0.0295 - accuracy: 0.9903 - val_loss: 0.0291 - val_accuracy: 0.9915\n",
      "Epoch 8/30\n",
      "600/600 [==============================] - 2s 3ms/step - loss: 0.0273 - accuracy: 0.9909 - val_loss: 0.0336 - val_accuracy: 0.9900\n",
      "Epoch 9/30\n",
      "600/600 [==============================] - 2s 3ms/step - loss: 0.0265 - accuracy: 0.9918 - val_loss: 0.0449 - val_accuracy: 0.9884\n",
      "Epoch 10/30\n",
      "600/600 [==============================] - 2s 3ms/step - loss: 0.0243 - accuracy: 0.9922 - val_loss: 0.0278 - val_accuracy: 0.9919\n",
      "Epoch 11/30\n",
      "600/600 [==============================] - 2s 3ms/step - loss: 0.0240 - accuracy: 0.9925 - val_loss: 0.0254 - val_accuracy: 0.9926\n",
      "Epoch 12/30\n",
      "600/600 [==============================] - 2s 3ms/step - loss: 0.0222 - accuracy: 0.9929 - val_loss: 0.0324 - val_accuracy: 0.9916\n",
      "Epoch 13/30\n",
      "600/600 [==============================] - 2s 3ms/step - loss: 0.0221 - accuracy: 0.9929 - val_loss: 0.0331 - val_accuracy: 0.9910\n",
      "Epoch 14/30\n",
      "600/600 [==============================] - 2s 3ms/step - loss: 0.0219 - accuracy: 0.9931 - val_loss: 0.0401 - val_accuracy: 0.9893\n",
      "Epoch 15/30\n",
      "600/600 [==============================] - 2s 3ms/step - loss: 0.0165 - accuracy: 0.9947 - val_loss: 0.0340 - val_accuracy: 0.9917\n",
      "Epoch 16/30\n",
      "600/600 [==============================] - 2s 3ms/step - loss: 0.0215 - accuracy: 0.9932 - val_loss: 0.0313 - val_accuracy: 0.9912\n",
      "Epoch 17/30\n",
      "600/600 [==============================] - 2s 3ms/step - loss: 0.0193 - accuracy: 0.9940 - val_loss: 0.0297 - val_accuracy: 0.9918\n",
      "Epoch 18/30\n",
      "600/600 [==============================] - 2s 3ms/step - loss: 0.0178 - accuracy: 0.9943 - val_loss: 0.0451 - val_accuracy: 0.9888\n",
      "Epoch 19/30\n",
      "600/600 [==============================] - 2s 3ms/step - loss: 0.0141 - accuracy: 0.9952 - val_loss: 0.0335 - val_accuracy: 0.9925\n",
      "Epoch 20/30\n",
      "600/600 [==============================] - 2s 3ms/step - loss: 0.0150 - accuracy: 0.9954 - val_loss: 0.0344 - val_accuracy: 0.9917\n",
      "Epoch 21/30\n",
      "600/600 [==============================] - 2s 3ms/step - loss: 0.0184 - accuracy: 0.9944 - val_loss: 0.0327 - val_accuracy: 0.9921\n",
      "Epoch 22/30\n",
      "600/600 [==============================] - 2s 3ms/step - loss: 0.0164 - accuracy: 0.9947 - val_loss: 0.0363 - val_accuracy: 0.9907\n",
      "Epoch 23/30\n",
      "600/600 [==============================] - 2s 3ms/step - loss: 0.0155 - accuracy: 0.9949 - val_loss: 0.0259 - val_accuracy: 0.9937\n",
      "Epoch 24/30\n",
      "600/600 [==============================] - 2s 3ms/step - loss: 0.0143 - accuracy: 0.9955 - val_loss: 0.0374 - val_accuracy: 0.9914\n",
      "Epoch 25/30\n",
      "600/600 [==============================] - 2s 3ms/step - loss: 0.0153 - accuracy: 0.9950 - val_loss: 0.0303 - val_accuracy: 0.9929\n",
      "Epoch 26/30\n",
      "600/600 [==============================] - 2s 3ms/step - loss: 0.0149 - accuracy: 0.9954 - val_loss: 0.0454 - val_accuracy: 0.9901\n",
      "Epoch 27/30\n",
      "600/600 [==============================] - 2s 3ms/step - loss: 0.0142 - accuracy: 0.9955 - val_loss: 0.0322 - val_accuracy: 0.9925\n",
      "Epoch 28/30\n",
      "600/600 [==============================] - 2s 3ms/step - loss: 0.0145 - accuracy: 0.9955 - val_loss: 0.0326 - val_accuracy: 0.9919\n",
      "Epoch 29/30\n",
      "600/600 [==============================] - 2s 3ms/step - loss: 0.0130 - accuracy: 0.9962 - val_loss: 0.0434 - val_accuracy: 0.9906\n",
      "Epoch 30/30\n",
      "600/600 [==============================] - 2s 3ms/step - loss: 0.0136 - accuracy: 0.9956 - val_loss: 0.0310 - val_accuracy: 0.9927\n",
      "Temps de calcul: 61 s\n"
     ]
    }
   ],
   "source": [
    "heure_de_debut = time.time()\n",
    "historique = model.fit(x_train, y_train,\n",
    "                       batch_size=batch_size,\n",
    "                       epochs=epochs,\n",
    "                       verbose=1,\n",
    "                       validation_data=(x_val, y_val))\n",
    "\n",
    "temps_de_calcul = time.time() - heure_de_debut\n",
    "print(\"Temps de calcul: {:d} s\".format(trunc(temps_de_calcul)))"
   ]
  },
  {
   "cell_type": "code",
   "execution_count": 9,
   "metadata": {},
   "outputs": [
    {
     "data": {
      "text/plain": [
       "[0.03095921315252781, 0.9926999807357788]"
      ]
     },
     "execution_count": 9,
     "metadata": {},
     "output_type": "execute_result"
    }
   ],
   "source": [
    "model.evaluate(x_val, y_val, verbose=0)"
   ]
  },
  {
   "cell_type": "code",
   "execution_count": 10,
   "metadata": {},
   "outputs": [
    {
     "data": {
      "image/png": "[encoded data removed]",
      "text/plain": [
       "<Figure size 432x288 with 1 Axes>"
      ]
     },
     "metadata": {
      "needs_background": "light"
     },
     "output_type": "display_data"
    },
    {
     "data": {
      "image/png": "[encoded data removed]",
      "text/plain": [
       "<Figure size 432x288 with 1 Axes>"
      ]
     },
     "metadata": {
      "needs_background": "light"
     },
     "output_type": "display_data"
    }
   ],
   "source": [
    "# Représentation des résultats\n",
    "accuracy_train = historique.history['accuracy']\n",
    "accuracy_test = historique.history['val_accuracy']\n",
    "loss_train = historique.history['loss']\n",
    "loss_test = historique.history['val_loss']\n",
    "# Précision\n",
    "plt.plot(accuracy_test, c='coral', label='test')\n",
    "plt.plot(accuracy_train, c='steelblue', label='val')\n",
    "plt.xlabel('Epoque')\n",
    "plt.title('Précision')\n",
    "plt.legend(bbox_to_anchor=(1.05, 1), loc='upper left', borderaxespad=0.)\n",
    "plt.show()\n",
    "# Fonction de coût\n",
    "plt.plot(loss_test, c='coral', label='test')\n",
    "plt.plot(loss_train, c='steelblue', label='val')\n",
    "plt.title('Fonction de coût')\n",
    "plt.legend(bbox_to_anchor=(1.05, 1), loc='upper left', borderaxespad=0.)\n",
    "plt.show()"
   ]
  },
  {
   "cell_type": "code",
   "execution_count": null,
   "metadata": {},
   "outputs": [],
   "source": []
  }
 ],
 "metadata": {
  "kernelspec": {
   "display_name": "tensorflow",
   "language": "python",
   "name": "tensorflow"
  },
  "language_info": {
   "codemirror_mode": {
    "name": "ipython",
    "version": 3
   },
   "file_extension": ".py",
   "mimetype": "text/x-python",
   "name": "python",
   "nbconvert_exporter": "python",
   "pygments_lexer": "ipython3",
   "version": "3.7.7"
  }
 },
 "nbformat": 4,
 "nbformat_minor": 4
}
